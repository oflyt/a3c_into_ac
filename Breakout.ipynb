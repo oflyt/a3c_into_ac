{
 "cells": [
  {
   "cell_type": "markdown",
   "metadata": {},
   "source": [
    "import tensorflow as tf  \n",
    "config = tf.ConfigProto()  \n",
    "config.gpu_options.allow_growth = True  \n",
    "session = tf.Session(config=config)  "
   ]
  },
  {
   "cell_type": "code",
   "execution_count": 1,
   "metadata": {},
   "outputs": [],
   "source": [
    "# OpenGym CartPole-v0 with A3C on GPU\n",
    "# -----------------------------------\n",
    "#\n",
    "# A3C implementation with GPU optimizer threads.\n",
    "# \n",
    "# Made as part of blog series Let's make an A3C, available at\n",
    "# https://jaromiru.com/2017/02/16/lets-make-an-a3c-theory/\n",
    "#\n",
    "# author: Jaromir Janisch, 2017"
   ]
  },
  {
   "cell_type": "code",
   "execution_count": null,
   "metadata": {},
   "outputs": [],
   "source": [
    "def calc_dimensions(env):\n",
    "    n_actions = env.action_space.n\n",
    "    obs_shape = env.observation_space.shape\n",
    "    height = obs_shape[0]//2; width = obs_shape[1]//2; n_frames = 4\n",
    "    state_shape = (height, width, n_frames)\n",
    "    return (state_shape, n_actions)\n",
    "\n",
    "def start(threads):\n",
    "    for thread in threads:\n",
    "        thread.start()\n",
    "\n",
    "def stop(threads):\n",
    "    for thread in threads:\n",
    "        thread.stop()\n",
    "    for thread in threads:\n",
    "        thread.join()"
   ]
  },
  {
   "cell_type": "code",
   "execution_count": null,
   "metadata": {
    "scrolled": true
   },
   "outputs": [
    {
     "data": {
      "image/png": "[encoded data removed]",
      "text/plain": [
       "<Figure size 432x288 with 1 Axes>"
      ]
     },
     "metadata": {
      "needs_background": "light"
     },
     "output_type": "display_data"
    }
   ],
   "source": [
    "import numpy as np\n",
    "import gym, time, random\n",
    "\n",
    "from ai_agent import Agent\n",
    "from ai_environment import Environment\n",
    "from ai_brain import Brain\n",
    "from ai_optimizer import Optimizer\n",
    "from util_plotter import Plotter\n",
    "%matplotlib inline  \n",
    "\n",
    "ENV = 'BreakoutDeterministic-v4'\n",
    "RUN_TIME = 15*60\n",
    "THREADS = 8\n",
    "OPTIMIZERS = 4\n",
    "\n",
    "test_env = gym.make(ENV)\n",
    "state_shape, actions_shape = calc_dimensions(test_env)\n",
    "\n",
    "weights_name = \"test_plot_weights.h5\"\n",
    "brain = Brain(state_shape, actions_shape)#, model_weights=weights_name)\n",
    "\n",
    "global rewards\n",
    "rewards = []\n",
    "envs = [Environment(gym.make(ENV), rewards, Agent(brain, actions_shape)) for i in range(THREADS)]\n",
    "opts = [Optimizer(brain) for i in range(OPTIMIZERS)]\n",
    "plotters = [Plotter(rewards)]\n",
    "\n",
    "start(opts); start(envs); start(plotters)\n",
    "time.sleep(RUN_TIME)\n",
    "stop(envs); stop(opts); stop(plotters)\n",
    "\n",
    "print(\"Training finished\")\n",
    "\n",
    "brain.save_weights(weights_name)"
   ]
  },
  {
   "cell_type": "code",
   "execution_count": null,
   "metadata": {
    "scrolled": true
   },
   "outputs": [],
   "source": [
    "agent_test = Agent(brain, actions_shape, eps_start=0., eps_end=0.)\n",
    "env_test = Environment(test_env, agent_test, render=True)\n",
    "env_test.run()"
   ]
  },
  {
   "cell_type": "code",
   "execution_count": null,
   "metadata": {
    "scrolled": true
   },
   "outputs": [],
   "source": []
  },
  {
   "cell_type": "code",
   "execution_count": null,
   "metadata": {},
   "outputs": [],
   "source": []
  }
 ],
 "metadata": {
  "kernelspec": {
   "display_name": "Python 3",
   "language": "python",
   "name": "python3"
  },
  "language_info": {
   "codemirror_mode": {
    "name": "ipython",
    "version": 3
   },
   "file_extension": ".py",
   "mimetype": "text/x-python",
   "name": "python",
   "nbconvert_exporter": "python",
   "pygments_lexer": "ipython3",
   "version": "3.6.8"
  }
 },
 "nbformat": 4,
 "nbformat_minor": 2
}
