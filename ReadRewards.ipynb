{
 "cells": [
  {
   "cell_type": "markdown",
   "metadata": {},
   "source": [
    "### Read rewards to calculate statistics"
   ]
  },
  {
   "cell_type": "code",
   "execution_count": null,
   "metadata": {},
   "outputs": [],
   "source": [
    "import pickle\n",
    "import numpy as np\n",
    "\n",
    "paths = [\n",
    "    \"rewards.csv\", \n",
    "    \"rewards_best.csv\", \n",
    "    \"rewards_entropy.csv\", \n",
    "    \"rewards_entropy01.csv\",\n",
    "    \"rewards_entropy02.csv\",\n",
    "    \"rewards_entropy05.csv\",\n",
    "    \"rewards_fixedeps.csv\",\n",
    "    \"rewards_fixedeps080604.csv\"\n",
    "]\n",
    "\n",
    "for path in paths:\n",
    "    with open(\"data/\"+path, 'rb') as file:\n",
    "        rewards = pickle.load(file)\n",
    "        print(path, \":\", np.max(rewards))"
   ]
  },
  {
   "cell_type": "code",
   "execution_count": null,
   "metadata": {},
   "outputs": [],
   "source": []
  }
 ],
 "metadata": {
  "kernelspec": {
   "display_name": "Python 3",
   "language": "python",
   "name": "python3"
  },
  "language_info": {
   "codemirror_mode": {
    "name": "ipython",
    "version": 3
   },
   "file_extension": ".py",
   "mimetype": "text/x-python",
   "name": "python",
   "nbconvert_exporter": "python",
   "pygments_lexer": "ipython3",
   "version": "3.6.8"
  }
 },
 "nbformat": 4,
 "nbformat_minor": 2
}
